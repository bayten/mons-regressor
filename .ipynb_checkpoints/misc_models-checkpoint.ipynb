{
 "cells": [
  {
   "cell_type": "code",
   "execution_count": 104,
   "metadata": {
    "ExecuteTime": {
     "end_time": "2017-09-12T11:14:46.271917Z",
     "start_time": "2017-09-12T14:14:46.265226+03:00"
    },
    "collapsed": true,
    "run_control": {
     "frozen": false,
     "read_only": false
    }
   },
   "outputs": [],
   "source": [
    "import numpy as np\n",
    "import os\n",
    "from sklearn.neural_network import MLPRegressor\n",
    "from sklearn.ensemble import RandomForestRegressor\n",
    "from sklearn.neighbors import KNeighborsRegressor\n",
    "from sklearn.linear_model import LinearRegression\n",
    "np.set_printoptions(suppress=True)"
   ]
  },
  {
   "cell_type": "code",
   "execution_count": 105,
   "metadata": {
    "ExecuteTime": {
     "end_time": "2017-09-12T11:14:49.600355Z",
     "start_time": "2017-09-12T14:14:49.562007+03:00"
    },
    "collapsed": true,
    "run_control": {
     "frozen": false,
     "read_only": false
    }
   },
   "outputs": [],
   "source": [
    "datasets = []\n",
    "data_list = os.listdir(\"./datasets/real\")\n",
    "data_list.sort()\n",
    "for data_str in data_list:\n",
    "    datasets.append(np.genfromtxt(\"./datasets/real/\"+data_str, delimiter=\",\"))"
   ]
  },
  {
   "cell_type": "code",
   "execution_count": 108,
   "metadata": {
    "ExecuteTime": {
     "end_time": "2017-09-12T11:15:06.572527Z",
     "start_time": "2017-09-12T14:15:06.568859+03:00"
    }
   },
   "outputs": [],
   "source": [
    "from sklearn.model_selection import cross_val_predict, KFold\n",
    "from sklearn.metrics import mean_squared_error\n",
    "skf_cv = KFold(10, True)"
   ]
  },
  {
   "cell_type": "code",
   "execution_count": 107,
   "metadata": {
    "ExecuteTime": {
     "end_time": "2017-09-12T11:15:03.972342Z",
     "start_time": "2017-09-12T14:15:03.965105+03:00"
    },
    "collapsed": true
   },
   "outputs": [],
   "source": [
    "mlp_reg = MLPRegressor(hidden_layer_sizes=(15, 20), solver='lbfgs', max_iter=5000)\n",
    "rf_reg = RandomForestRegressor()\n",
    "knn_reg = KNeighborsRegressor()\n",
    "lin_reg = LinearRegression()"
   ]
  },
  {
   "cell_type": "code",
   "execution_count": 109,
   "metadata": {
    "ExecuteTime": {
     "end_time": "2017-09-12T11:17:22.834459Z",
     "start_time": "2017-09-12T14:15:23.843033+03:00"
    },
    "run_control": {
     "frozen": false,
     "read_only": false
    }
   },
   "outputs": [],
   "source": [
    "mlp_scores = [0.0 for i in range(10)]\n",
    "\n",
    "for idx, dataset in enumerate(datasets):\n",
    "    predictions = cross_val_predict(mlp_reg, dataset[:, :-1],\n",
    "                                    dataset[:, -1:].ravel(), cv=skf_cv, verbose=False)\n",
    "    mlp_scores[idx] = mean_squared_error(predictions, dataset[:, -1:])"
   ]
  },
  {
   "cell_type": "code",
   "execution_count": 110,
   "metadata": {
    "ExecuteTime": {
     "end_time": "2017-09-12T11:20:00.853089Z",
     "start_time": "2017-09-12T14:17:22.835768+03:00"
    },
    "run_control": {
     "frozen": false,
     "read_only": false
    }
   },
   "outputs": [],
   "source": [
    "rf_scores = [0.0 for i in range(10)]\n",
    "\n",
    "for idx, dataset in enumerate(datasets):\n",
    "    predictions = cross_val_predict(rf_reg, dataset[:, :-1],\n",
    "                                    dataset[:, -1:].ravel(), cv=skf_cv, verbose=False)\n",
    "    rf_scores[idx] = mean_squared_error(predictions, dataset[:, -1:])"
   ]
  },
  {
   "cell_type": "code",
   "execution_count": 111,
   "metadata": {
    "ExecuteTime": {
     "end_time": "2017-09-12T11:20:09.003727Z",
     "start_time": "2017-09-12T14:20:00.854624+03:00"
    },
    "run_control": {
     "frozen": false,
     "read_only": false
    }
   },
   "outputs": [],
   "source": [
    "knn_scores = [0.0 for i in range(10)]\n",
    "for idx, dataset in enumerate(datasets):\n",
    "    predictions = cross_val_predict(knn_reg, dataset[:, :-1],\n",
    "                                    dataset[:, -1:].ravel(), cv=skf_cv, verbose=False)\n",
    "    knn_scores[idx] = mean_squared_error(predictions, dataset[:, -1:])"
   ]
  },
  {
   "cell_type": "code",
   "execution_count": 112,
   "metadata": {
    "ExecuteTime": {
     "end_time": "2017-09-12T11:20:40.248475Z",
     "start_time": "2017-09-12T14:20:09.004899+03:00"
    }
   },
   "outputs": [],
   "source": [
    "lin_scores = [0.0 for i in range(10)]\n",
    "\n",
    "for idx, dataset in enumerate(datasets):\n",
    "    predictions = cross_val_predict(lin_reg, dataset[:, :-1],\n",
    "                                    dataset[:, -1:].ravel(), cv=skf_cv, verbose=False)\n",
    "    lin_scores[idx] = mean_squared_error(predictions, dataset[:, -1:])"
   ]
  },
  {
   "cell_type": "code",
   "execution_count": 113,
   "metadata": {
    "ExecuteTime": {
     "end_time": "2017-09-12T11:21:04.364652Z",
     "start_time": "2017-09-12T14:21:04.359451+03:00"
    },
    "run_control": {
     "frozen": false,
     "read_only": false
    }
   },
   "outputs": [
    {
     "data": {
      "text/plain": [
       "[0.3849980983862154,\n",
       " 8869.3113098970207,\n",
       " 13.573682434360393,\n",
       " 6.9246323652435509,\n",
       " 0.23431506848623571,\n",
       " 15.588095941580962,\n",
       " 21395.56106884023,\n",
       " 0.16360460234392263,\n",
       " 0.38866890069947324,\n",
       " 0.0]"
      ]
     },
     "execution_count": 113,
     "metadata": {},
     "output_type": "execute_result"
    }
   ],
   "source": [
    "mlp_scores"
   ]
  },
  {
   "cell_type": "code",
   "execution_count": 114,
   "metadata": {
    "ExecuteTime": {
     "end_time": "2017-09-12T11:21:04.945710Z",
     "start_time": "2017-09-12T14:21:04.942109+03:00"
    },
    "run_control": {
     "frozen": false,
     "read_only": false
    }
   },
   "outputs": [
    {
     "data": {
      "text/plain": [
       "[0.47613008548745034,\n",
       " 7916.6206104111589,\n",
       " 1.5870389253246762,\n",
       " 18.637644077669901,\n",
       " 0.15713876967095852,\n",
       " 15.119963241106719,\n",
       " 5903.3000485927214,\n",
       " 0.046098418277680138,\n",
       " 0.20308080808080806,\n",
       " 0.0]"
      ]
     },
     "execution_count": 114,
     "metadata": {},
     "output_type": "execute_result"
    }
   ],
   "source": [
    "rf_scores"
   ]
  },
  {
   "cell_type": "code",
   "execution_count": 115,
   "metadata": {
    "ExecuteTime": {
     "end_time": "2017-09-12T11:21:05.367217Z",
     "start_time": "2017-09-12T14:21:05.363659+03:00"
    },
    "run_control": {
     "frozen": false,
     "read_only": false
    }
   },
   "outputs": [
    {
     "data": {
      "text/plain": [
       "[0.94862614816156154,\n",
       " 8409.3701435406711,\n",
       " 137.48269349350647,\n",
       " 22.80467335922329,\n",
       " 0.11055793991416309,\n",
       " 43.033907509881423,\n",
       " 4746.7191548239844,\n",
       " 0.060316344463971883,\n",
       " 0.20969696969696969,\n",
       " 0.0]"
      ]
     },
     "execution_count": 115,
     "metadata": {},
     "output_type": "execute_result"
    }
   ],
   "source": [
    "knn_scores"
   ]
  },
  {
   "cell_type": "code",
   "execution_count": 117,
   "metadata": {
    "ExecuteTime": {
     "end_time": "2017-09-12T11:21:10.683081Z",
     "start_time": "2017-09-12T14:21:10.679208+03:00"
    },
    "run_control": {
     "frozen": false,
     "read_only": false
    }
   },
   "outputs": [
    {
     "data": {
      "text/plain": [
       "[1.3744323582608211,\n",
       " 8128.6035114059086,\n",
       " 85.571432386358595,\n",
       " 8.1231066741171905,\n",
       " 0.15614789215052471,\n",
       " 25.534663755728033,\n",
       " 4168.2217860014771,\n",
       " 0.064184873406024745,\n",
       " 0.19486119749339684,\n",
       " 0.0]"
      ]
     },
     "execution_count": 117,
     "metadata": {},
     "output_type": "execute_result"
    }
   ],
   "source": [
    "lin_scores"
   ]
  },
  {
   "cell_type": "code",
   "execution_count": null,
   "metadata": {
    "collapsed": true
   },
   "outputs": [],
   "source": []
  }
 ],
 "metadata": {
  "kernelspec": {
   "display_name": "Python 3",
   "language": "python",
   "name": "python3"
  },
  "language_info": {
   "codemirror_mode": {
    "name": "ipython",
    "version": 3
   },
   "file_extension": ".py",
   "mimetype": "text/x-python",
   "name": "python",
   "nbconvert_exporter": "python",
   "pygments_lexer": "ipython3",
   "version": "3.5.2"
  }
 },
 "nbformat": 4,
 "nbformat_minor": 2
}
